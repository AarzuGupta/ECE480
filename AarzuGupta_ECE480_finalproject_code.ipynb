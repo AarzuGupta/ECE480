{
 "cells": [
  {
   "cell_type": "markdown",
   "id": "e3e6dc59",
   "metadata": {},
   "source": [
    "In Train_Arabic_Digit.txt there are 660 blocks for each spoken digit .The first 330 blocks\n",
    "represent male speakers and the second 330 blocks represent the female speakers. Blocks 1-660\n",
    "represent the spoken digit \"0\" (10 utterances of /0/ from 66 speakers), blocks 661-1320 represent\n",
    "the spoken digit \"1\" (10 utterances of /1/ from the same 66 speakers 33 males and 33 females\n",
    "), and so on up to digit 9.\n",
    "\n",
    "In Test_Arabic_Digit.txt, digits 0 to 9 have 220 blocks for each one. The first 110 blocks\n",
    "represent male speakers and the second 110 blocks represent the female speakers. Therefore,\n",
    "blocks 1-220 represent digit \"0\" (10 utterances of /0/ from the 22 speakers ), blocks\n",
    "221-440 represent digit \"1\" (10 utterances of /1/ from the same 22 speakers 11 males and 11\n",
    "females ), and so on."
   ]
  },
  {
   "cell_type": "markdown",
   "id": "9267fd82",
   "metadata": {},
   "source": [
    "Import Libraries:\n",
    "="
   ]
  },
  {
   "cell_type": "code",
   "execution_count": 15,
   "id": "4c97b731",
   "metadata": {},
   "outputs": [],
   "source": [
    "import pandas as pd\n",
    "import os\n",
    "from io import StringIO\n",
    "import matplotlib.pyplot as plt\n",
    "import numpy as np\n",
    "import scipy\n",
    "from scipy import stats\n",
    "from scipy.stats import beta\n",
    "import math\n",
    "from sklearn.cluster import KMeans\n",
    "from sklearn.mixture import GaussianMixture\n",
    "from scipy.stats import multivariate_normal\n",
    "from sklearn import svm\n",
    "from tqdm import tqdm\n",
    "from sklearn.metrics import confusion_matrix\n",
    "import seaborn as sns\n",
    "from scipy.spatial.distance import cdist #elbow plot\n",
    "from sklearn.decomposition import PCA\n",
    "from operator import truediv #metrics"
   ]
  },
  {
   "cell_type": "markdown",
   "id": "255a9e0a",
   "metadata": {},
   "source": [
    "Import Data:\n",
    "="
   ]
  },
  {
   "cell_type": "code",
   "execution_count": 16,
   "id": "006a6565",
   "metadata": {},
   "outputs": [],
   "source": [
    "# read in data that is locally stored\n",
    "notebook_path = os.path.abspath(\"final_project.ipynb\")\n",
    "train_text = os.path.join(os.path.dirname(notebook_path), \"data/Train_Arabic_Digit.txt\")\n",
    "test_text = os.path.join(os.path.dirname(notebook_path), \"data/Test_Arabic_Digit.txt\")"
   ]
  },
  {
   "cell_type": "code",
   "execution_count": 17,
   "id": "1b921f9e",
   "metadata": {},
   "outputs": [],
   "source": [
    "# read in txt files as csv data frames\n",
    "train_df = pd.read_csv(train_text, sep=\" \")\n",
    "train_df.columns = ['mfcc_1', 'mfcc_2', 'mfcc_3', 'mfcc_4', 'mfcc_5', 'mfcc_6', 'mfcc_7', 'mfcc_8', 'mfcc_9', 'mfcc_10', 'mfcc_11', 'mfcc_12', 'mfcc_13']\n",
    "test_df = pd.read_csv(test_text, sep=\" \")\n",
    "test_df.columns = ['mfcc_1', 'mfcc_2', 'mfcc_3', 'mfcc_4', 'mfcc_5', 'mfcc_6', 'mfcc_7', 'mfcc_8', 'mfcc_9', 'mfcc_10', 'mfcc_11', 'mfcc_12', 'mfcc_13']\n",
    "\n",
    "#in train, row 38 has empty (NaN) row (separating blocks)"
   ]
  },
  {
   "cell_type": "code",
   "execution_count": 18,
   "id": "1446697a",
   "metadata": {},
   "outputs": [],
   "source": [
    "#create a col that separates blocks \n",
    "train_df[\"group_no\"] = train_df.isnull().all(axis=1).cumsum()\n",
    "#remove NaN rows, reset index\n",
    "train_df_split = train_df.dropna().reset_index(drop=True) "
   ]
  },
  {
   "cell_type": "code",
   "execution_count": 19,
   "id": "bf908088",
   "metadata": {},
   "outputs": [],
   "source": [
    "test_df[\"group_no\"] = test_df.isnull().all(axis=1).cumsum()\n",
    "test_df_split = test_df.dropna().reset_index(drop=True)"
   ]
  },
  {
   "cell_type": "markdown",
   "id": "00f00b2e",
   "metadata": {},
   "source": [
    "Data Parsing:\n",
    "="
   ]
  },
  {
   "cell_type": "code",
   "execution_count": 6,
   "id": "fa9a76fa",
   "metadata": {},
   "outputs": [],
   "source": [
    "def get_block_data(data, digit_num, test = False, num_blocks = 1):\n",
    "    if test:\n",
    "        size = 220*num_blocks\n",
    "    else:\n",
    "        size = 660*num_blocks\n",
    "    return (data.loc[data['group_no'] == ((size*digit_num) + 1)]).iloc[:, 0:13]"
   ]
  },
  {
   "cell_type": "code",
   "execution_count": 7,
   "id": "4e60b6d7",
   "metadata": {},
   "outputs": [],
   "source": [
    "def get_1block_data(data, block_number = 1):\n",
    "    return (data.loc[data['group_no'] == block_number]).iloc[:, 0:13]"
   ]
  },
  {
   "cell_type": "code",
   "execution_count": 8,
   "id": "0df959b4",
   "metadata": {},
   "outputs": [],
   "source": [
    "def get_digit_data(data, digit_num, test = False, num_blocks = 1):\n",
    "    if test:\n",
    "        size = 220*num_blocks\n",
    "    else:\n",
    "        size = 660*num_blocks\n",
    "        \n",
    "    subset = data.loc[(data['group_no'] >= size*digit_num) & (data['group_no'] < (size*(digit_num+1)))]\n",
    "    return subset.iloc[:, 0:13] #removes group_no col"
   ]
  },
  {
   "cell_type": "code",
   "execution_count": 9,
   "id": "20c4f224",
   "metadata": {},
   "outputs": [],
   "source": [
    "def get_gender_data(data, test = False):\n",
    "    female_list = []\n",
    "    male_list = []\n",
    "    \n",
    "    if test:\n",
    "        block_size = 110\n",
    "    else:\n",
    "        block_size = 330\n",
    "    \n",
    "    for i in range(0, 19):\n",
    "        male_curr = train_df_split.loc[(train_df_split['group_no'] >= (block_size*i)) & (train_df_split['group_no'] < (block_size*(i+1)))]\n",
    "        male_list.append(male_curr)\n",
    "        i += 2\n",
    "    \n",
    "    for i in range(1, 20):\n",
    "        fem_curr = train_df_split.loc[(train_df_split['group_no'] >= (block_size*i)) & (train_df_split['group_no'] < (block_size*(i+1)))]\n",
    "        female_list.append(fem_curr)\n",
    "        i += 2\n",
    "        \n",
    "    males_all = pd.concat(male_list, ignore_index = True, axis = 0)\n",
    "    females_all = pd.concat(female_list, ignore_index = True, axis = 0)\n",
    "    \n",
    "    return males_all, females_all\n",
    "        "
   ]
  },
  {
   "cell_type": "code",
   "execution_count": 10,
   "id": "3d7a4f7e",
   "metadata": {},
   "outputs": [
    {
     "ename": "NameError",
     "evalue": "name 'male_0' is not defined",
     "output_type": "error",
     "traceback": [
      "\u001b[0;31m---------------------------------------------------------------------------\u001b[0m",
      "\u001b[0;31mNameError\u001b[0m                                 Traceback (most recent call last)",
      "Input \u001b[0;32mIn [10]\u001b[0m, in \u001b[0;36m<cell line: 2>\u001b[0;34m()\u001b[0m\n\u001b[1;32m      1\u001b[0m \u001b[38;5;66;03m#concatenate\u001b[39;00m\n\u001b[0;32m----> 2\u001b[0m males_train_all \u001b[38;5;241m=\u001b[39m pd\u001b[38;5;241m.\u001b[39mconcat([\u001b[43mmale_0\u001b[49m, male_1, male_2, male_3, male_4, male_5, male_6, male_7, male_8, male_9], ignore_index\u001b[38;5;241m=\u001b[39m\u001b[38;5;28;01mTrue\u001b[39;00m,axis\u001b[38;5;241m=\u001b[39m\u001b[38;5;241m0\u001b[39m)\n\u001b[1;32m      3\u001b[0m females_train_all \u001b[38;5;241m=\u001b[39m pd\u001b[38;5;241m.\u001b[39mconcat([female_0, female_1, female_2, female_3, female_4, female_5, female_6, female_7, female_8, female_9], ignore_index\u001b[38;5;241m=\u001b[39m\u001b[38;5;28;01mTrue\u001b[39;00m,axis\u001b[38;5;241m=\u001b[39m\u001b[38;5;241m0\u001b[39m)\n\u001b[1;32m      4\u001b[0m males_train \u001b[38;5;241m=\u001b[39m males_train_all\u001b[38;5;241m.\u001b[39miloc[:, \u001b[38;5;241m0\u001b[39m:\u001b[38;5;241m13\u001b[39m]\n",
      "\u001b[0;31mNameError\u001b[0m: name 'male_0' is not defined"
     ]
    }
   ],
   "source": [
    "#concatenate\n",
    "males_train_all = pd.concat([male_0, male_1, male_2, male_3, male_4, male_5, male_6, male_7, male_8, male_9], ignore_index=True,axis=0)\n",
    "females_train_all = pd.concat([female_0, female_1, female_2, female_3, female_4, female_5, female_6, female_7, female_8, female_9], ignore_index=True,axis=0)\n",
    "males_train = males_train_all.iloc[:, 0:13]\n",
    "females_train = females_train_all.iloc[:, 0:13]"
   ]
  },
  {
   "cell_type": "code",
   "execution_count": 11,
   "id": "c616cda6",
   "metadata": {},
   "outputs": [],
   "source": [
    "males_train_all = get_gender_data(train_df_split)[0]"
   ]
  },
  {
   "cell_type": "code",
   "execution_count": null,
   "id": "92a50c94",
   "metadata": {},
   "outputs": [],
   "source": [
    "#generalize data plotting MFCC vs. window index\n",
    "\n",
    "def plot_MFCC_window(data, digit_num, flatten = False):\n",
    "    block = get_block_data(data, digit_num)\n",
    "    if flatten:\n",
    "        plt.plot(block.to_numpy().flatten())\n",
    "    else:\n",
    "        plt.plot(block)\n",
    "    plt.title(f\"Digit: {digit_num}\")\n",
    "    plt.xlabel(\"Window Index\")\n",
    "    plt.ylabel(\"MFCC Value\")\n",
    "    # plt.legend(block, bbox_to_anchor=(1, 1))"
   ]
  },
  {
   "cell_type": "code",
   "execution_count": null,
   "id": "1c52a4b0",
   "metadata": {},
   "outputs": [],
   "source": [
    "for i in range(10):\n",
    "    plot_MFCC_window(train_df_split, i)\n",
    "    plt.show()"
   ]
  },
  {
   "cell_type": "code",
   "execution_count": null,
   "id": "303067cc",
   "metadata": {},
   "outputs": [],
   "source": [
    "plt.figure(figsize=(15, 6))\n",
    "\n",
    "rows = 2\n",
    "cols = 5\n",
    "counter = 1\n",
    "\n",
    "for i in range(10):\n",
    "    plt.subplot(rows, cols, counter) \n",
    "    plt.subplots_adjust(top = 1.5, bottom = 0.1, left = 0.5, right = 1.9)\n",
    "    plot_MFCC_window(train_df_split, i)\n",
    "    counter += 1\n",
    "    \n",
    "#plt.legend(train_df_split, bbox_to_anchor=(1, 1))"
   ]
  },
  {
   "cell_type": "code",
   "execution_count": null,
   "id": "faf2fcd5",
   "metadata": {
    "scrolled": true
   },
   "outputs": [],
   "source": [
    "# pairwise plot\n",
    "sns.pairplot(train_df_split.drop(columns = 'group_no'), hue='label')"
   ]
  },
  {
   "cell_type": "markdown",
   "id": "3ff1f953",
   "metadata": {},
   "source": [
    "K-Means:\n",
    "="
   ]
  },
  {
   "cell_type": "code",
   "execution_count": null,
   "id": "fd255a35",
   "metadata": {},
   "outputs": [],
   "source": [
    "def get_kmeans_model(data, num_clusters, digit_num):\n",
    "    digit_data = get_digit_data(data, digit_num)\n",
    "    return KMeans(n_clusters = num_clusters).fit(digit_data)"
   ]
  },
  {
   "cell_type": "code",
   "execution_count": null,
   "id": "cb676d0b",
   "metadata": {},
   "outputs": [],
   "source": [
    "def plot_GMM_kmeans_scatter(data, num_clusters, digit_num, mfcc_x, mfcc_y):\n",
    "    digit_data = get_digit_data(data, digit_num)\n",
    "    \n",
    "    kmeans = get_kmeans_model(data, num_clusters, digit_num)\n",
    "    pred = kmeans.predict(digit_data)\n",
    "    \n",
    "    plt.scatter(digit_data.to_numpy()[:,mfcc_x], digit_data.to_numpy()[:,mfcc_y], c = pred, cmap = \"RdBu\")\n",
    "    plt.title(f\"Digit {digit_num}\")\n",
    "    plt.xlabel(f\"MFCC {mfcc_x + 1}\") # try based on 2 MFCCs from visualization that are most different \n",
    "    plt.ylabel(f\"MFCC {mfcc_y + 1}\")"
   ]
  },
  {
   "cell_type": "code",
   "execution_count": null,
   "id": "86961fd5",
   "metadata": {},
   "outputs": [],
   "source": [
    "plt.figure(figsize=(15, 6))\n",
    "\n",
    "rows = 2\n",
    "cols = 5\n",
    "counter = 1\n",
    "\n",
    "for i in range(10):\n",
    "    plt.subplot(rows, cols, counter) \n",
    "    plt.subplots_adjust(top = 1.5, bottom = 0.1, left = 0.3, right = 1.9)\n",
    "    if (i == 1) or (i == 2) or (i == 4) or (i == 6): \n",
    "        num_clusters = 3\n",
    "    elif (i == 8) or (i == 9):\n",
    "        num_clusters = 5\n",
    "    else:\n",
    "        num_clusters = 4\n",
    "    plot_GMM_kmeans_scatter(train_df_split, num_clusters, i, 0, 1)\n",
    "    counter += 1"
   ]
  },
  {
   "cell_type": "code",
   "execution_count": null,
   "id": "6246a1cf",
   "metadata": {},
   "outputs": [],
   "source": [
    "def calculate_cluster_characteristics_2MFCCs(data, num_clusters, digit_num, mfcc_x, mfcc_y):\n",
    "    digit_data = get_digit_data(data, digit_num)\n",
    "    clusters = list(zip(digit_data.to_numpy()[:,mfcc_x], digit_data.to_numpy()[:,mfcc_y]))\n",
    "    \n",
    "    kmeans = get_kmeans_model(data, num_clusters, digit_num)\n",
    "    pred = kmeans.predict(clusters)\n",
    "    \n",
    "    res = []\n",
    "    means = []\n",
    "    covars = []\n",
    "    for i in range(num_clusters):\n",
    "        pts = data[pred == i]\n",
    "        means.append(np.mean(pts, axis = 0))\n",
    "        covars.append(np.cov(pts.T))\n",
    "        res.append(len(pts)/len(pred))\n",
    "    \n",
    "    return means, covars, res"
   ]
  },
  {
   "cell_type": "code",
   "execution_count": null,
   "id": "579f2445",
   "metadata": {},
   "outputs": [],
   "source": [
    "def calculate_cluster_characteristics(data, num_clusters, i):\n",
    "    kmeans = get_kmeans_model(data, num_clusters, digit_num)\n",
    "    digit_data = get_digit_data(data, digit_num)\n",
    "    pred = kmeans.predict(digit_data)\n",
    "    \n",
    "    res = []\n",
    "    means = []\n",
    "    covars = []\n",
    "    for i in range(num_clusters):\n",
    "        pts = data[pred == i]\n",
    "        means.append(np.mean(pts, axis = 0))\n",
    "        covars.append(np.cov(pts.T))\n",
    "        res.append(len(pts)/len(pred))\n",
    "    \n",
    "    return means, covars, res"
   ]
  },
  {
   "cell_type": "code",
   "execution_count": null,
   "id": "ebf9534a",
   "metadata": {},
   "outputs": [],
   "source": [
    "def prob(x, means, covs, res):\n",
    "    ans = 0\n",
    "    for i in range(4):\n",
    "        ans += res[i] * multivariate_normal.pdf(x, means[i], covs[i])\n",
    "    return ans"
   ]
  },
  {
   "cell_type": "code",
   "execution_count": null,
   "id": "25f8fb7b",
   "metadata": {},
   "outputs": [],
   "source": [
    "kmeans_models_new = []\n",
    "for i in range(10):\n",
    "    if i == 2:\n",
    "        num_clusters = 3\n",
    "    elif (i == 4) or (i == 8) or (i == 9) or (i == 7):\n",
    "        num_clusters = 5\n",
    "    else:\n",
    "        num_clusters = 4\n",
    "    \n",
    "    kmeans_current = get_kmeans_model(train_df_split, num_clusters, i)\n",
    "    kmeans_models_new.append(kmeans_current)"
   ]
  },
  {
   "cell_type": "code",
   "execution_count": null,
   "id": "8dfa62f3",
   "metadata": {},
   "outputs": [],
   "source": [
    "def plot_GMM_kmeans_contour(data, num_clusters, digit_num, mfcc_x, mfcc_y):\n",
    "    \n",
    "    x, y = np.mgrid[-10:10:1, -10:10:1]\n",
    "    pos = np.dstack((x, y))\n",
    "    \n",
    "    means, covs, res = calculate_cluster_characteristics(data, num_clusters, digit_num, mfcc_x, mfcc_y)\n",
    "\n",
    "    z = []\n",
    "    for p in pos:\n",
    "        z.append(prob(p, means, covs, res))\n",
    "    z = np.array(z).reshape(x.shape)\n",
    "\n",
    "    plt.contourf(x, y, z)\n",
    "    plt.title(f\"Contour plot: pdf of K-Means on Digit {digit_num}\")\n",
    "    plt.xlabel(f\"MFCC {mfcc_x + 1}\") \n",
    "    plt.ylabel(f\"MFCC {mfcc_y + 1}\")"
   ]
  },
  {
   "cell_type": "markdown",
   "id": "2c1ec39a",
   "metadata": {},
   "source": [
    "EM:\n",
    "="
   ]
  },
  {
   "cell_type": "code",
   "execution_count": null,
   "id": "de8a6e2a",
   "metadata": {},
   "outputs": [],
   "source": [
    "def get_em_model(data, num_clusters, digit_num, mfcc_x, mfcc_y): # change to mfcc_lists\n",
    "    digit_data = get_digit_data(data, digit_num)[['mfcc_1', 'mfcc_2']]\n",
    "    # EXPLORE: GM max_iter (100 was ok for hw 5 but need more here)\n",
    "    return GaussianMixture(n_components = num_clusters, max_iter = 10000, verbose = 1, verbose_interval = 1000).fit(digit_data)"
   ]
  },
  {
   "cell_type": "code",
   "execution_count": null,
   "id": "2f1a7a38",
   "metadata": {},
   "outputs": [],
   "source": [
    "gm_verb = GaussianMixture(n_components = 4, max_iter = 100, verbose = 1, verbose_interval = 1000)\n",
    "gm_verb.fit(digit_data)"
   ]
  },
  {
   "cell_type": "code",
   "execution_count": null,
   "id": "ceac8710",
   "metadata": {},
   "outputs": [],
   "source": [
    "gmm = GaussianMixture(n_components=4, tol=1e-8,verbose=2,verbose_interval=1)\n",
    "df = gmm.fit(digit_data)"
   ]
  },
  {
   "cell_type": "code",
   "execution_count": null,
   "id": "c38fcc13",
   "metadata": {},
   "outputs": [],
   "source": [
    "def get_em_model_new(data, num_clusters, digit_num): # change to mfcc_lists\n",
    "    digit_data = get_digit_data(data, digit_num)\n",
    "    return GaussianMixture(n_components = num_clusters, max_iter = 10000000).fit(digit_data)"
   ]
  },
  {
   "cell_type": "code",
   "execution_count": null,
   "id": "1aa0ec22",
   "metadata": {},
   "outputs": [],
   "source": [
    "def predict_label_diag(block_data, diag_models):\n",
    "\n",
    "    score_list = []\n",
    "    for i in range(10):\n",
    "        diag = diag_models[i]\n",
    "        means = diag.means_ \n",
    "        covs = diag.covariances_\n",
    "        res =  diag.weights_ \n",
    "        num_clusters = res.shape[0]\n",
    "        score = prob_test(block_data, means, covs, res, num_clusters) \n",
    "        score_list.append(score)\n",
    "\n",
    "    label_predict = score_list.index(max(score_list))\n",
    "    return label_predict"
   ]
  },
  {
   "cell_type": "code",
   "execution_count": null,
   "id": "db5b96a7",
   "metadata": {},
   "outputs": [],
   "source": [
    "# FIX FOR ALL 13 INSTEAD OF 2\n",
    "\n",
    "def plot_GMM_EM_scatter(data, num_clusters, digit_num, mfcc_x, mfcc_y):\n",
    "    digit_data = get_digit_data(data, digit_num)\n",
    "    clusters = list(zip(digit_data.to_numpy()[:,0], digit_data.to_numpy()[:,1], digit_data.to_numpy()[:,2], digit_data.to_numpy()[:,3], digit_data.to_numpy()[:,4], digit_data.to_numpy()[:,5], digit_data.to_numpy()[:,6], digit_data.to_numpy()[:,7], digit_data.to_numpy()[:,8], digit_data.to_numpy()[:,9], digit_data.to_numpy()[:,10], digit_data.to_numpy()[:,11], digit_data.to_numpy()[:,12]))\n",
    "    gm = get_em_model_new(data, num_clusters, digit_num)\n",
    "    pred = gm.predict_proba(clusters)\n",
    "    \n",
    "    color_labels = [np.array([255,0,0])/255, np.array([0,255,0])/255, np.array([0,0,255])/255, np.array([0,255,255])/255]\n",
    "    \n",
    "    #make rgba matrix\n",
    "    for num in range(num_clusters):\n",
    "        #initialize rgba\n",
    "        rgba = np.zeros((len(clusters), 4))\n",
    "        rgba[:,0] = color_labels[num][0]\n",
    "        rgba[:,1] = color_labels[num][1]\n",
    "        rgba[:,2] = color_labels[num][2]\n",
    "        rgba[:,3] = pred[:,num]\n",
    "        plt.scatter(digit_data.to_numpy()[:,mfcc_x], digit_data.to_numpy()[:,mfcc_y], c = rgba, cmap = 'RdBu')\n",
    "    \n",
    "    plt.title(f\"Scatter plot: EM on Digit {digit_num}\")\n",
    "    plt.xlabel(f\"MFCC {mfcc_x + 1}\") \n",
    "    plt.ylabel(f\"MFCC {mfcc_y + 1}\")"
   ]
  },
  {
   "cell_type": "code",
   "execution_count": null,
   "id": "81392cbd",
   "metadata": {},
   "outputs": [],
   "source": [
    "for i in range(10):\n",
    "    if (i == 1) or (i == 2) or (i == 4) or (i == 6): \n",
    "        num_clusters = 3\n",
    "    elif (i == 8) or (i == 9):\n",
    "        num_clusters = 5\n",
    "    else:\n",
    "        num_clusters = 4\n",
    "    plot_GMM_EM_scatter(train_df_split, num_clusters, i, 0, 1)\n",
    "    plt.show()"
   ]
  },
  {
   "cell_type": "code",
   "execution_count": null,
   "id": "7c47afb4",
   "metadata": {},
   "outputs": [],
   "source": [
    "def plot_GMM_EM_contour(data, num_clusters, digit_num, mfcc_x, mfcc_y):\n",
    "    digit_data = get_digit_data(data, digit_num)\n",
    "    # clusters = list(zip(digit_data.to_numpy()[:,mfcc_x], digit_data.to_numpy()[:,mfcc_y]))\n",
    "    gm = get_em_model_new(data, num_clusters, digit_num)\n",
    "    \n",
    "    x, y = np.mgrid[-10:10:.01, -15:8:.01] #increased resolution\n",
    "    pos = np.dstack((x, y))\n",
    "    z = []\n",
    "    for p in pos:\n",
    "        z.append(gm.score_samples(p))\n",
    "    z = np.array(z).reshape(x.shape)\n",
    "\n",
    "    plt.contourf(x, y, z)\n",
    "    plt.title(f\"Contour plot: pdf of EM on Digit {digit_num}\")\n",
    "    plt.xlabel(f\"MFCC {mfcc_x + 1}\") \n",
    "    plt.ylabel(f\"MFCC {mfcc_y + 1}\")"
   ]
  },
  {
   "cell_type": "code",
   "execution_count": null,
   "id": "b4769cbe",
   "metadata": {},
   "outputs": [],
   "source": [
    "for i in range(10):\n",
    "    \n",
    "    if (i == 1) or (i == 2) or (i == 4) or (i == 6): \n",
    "        num_clusters = 3\n",
    "    elif (i == 8) or (i == 9):\n",
    "        num_clusters = 5\n",
    "    else:\n",
    "        num_clusters = 4\n",
    "    \n",
    "    plot_GMM_EM_contour(train_df_split, num_clusters, i, 0, 1)\n",
    "    plt.show()"
   ]
  },
  {
   "cell_type": "markdown",
   "id": "c0265f9f",
   "metadata": {},
   "source": [
    "Model Exploration (different covariance matrices):\n",
    "="
   ]
  },
  {
   "cell_type": "code",
   "execution_count": null,
   "id": "974e3130",
   "metadata": {},
   "outputs": [],
   "source": [
    "def get_diag_model(data, num_clusters, digit_num): \n",
    "    digit_data = get_digit_data(data, digit_num)\n",
    "    return GaussianMixture(n_components = num_clusters, max_iter = 10000000, covariance_type = \"diag\").fit(digit_data)"
   ]
  },
  {
   "cell_type": "code",
   "execution_count": null,
   "id": "0cbc6adb",
   "metadata": {},
   "outputs": [],
   "source": [
    "diag_models = []\n",
    "for i in range(10):\n",
    "    if (i == 1) or (i == 2) or (i == 4) or (i == 6): \n",
    "        num_clusters = 3\n",
    "    elif (i == 8) or (i == 9):\n",
    "        num_clusters = 5\n",
    "    else:\n",
    "        num_clusters = 4\n",
    "    diag_current = get_diag_model(train_df_split, num_clusters, i)\n",
    "    diag_models.append(diag_current)"
   ]
  },
  {
   "cell_type": "code",
   "execution_count": null,
   "id": "16307814",
   "metadata": {},
   "outputs": [],
   "source": [
    "predictions_diag = []\n",
    "for i in tqdm(range(2200)):\n",
    "    block = get_1block_data(test_df_split, block_number = i).iloc[:, 0:13] #just use 1st 2 coeff -- CHANGE all 13\n",
    "    predictions_diag.append(predict_label_diag(block, diag_models))"
   ]
  },
  {
   "cell_type": "code",
   "execution_count": null,
   "id": "2e48b1b8",
   "metadata": {},
   "outputs": [],
   "source": [
    "plot_confusion_get_metrics(label_true, predictions_diag, \"Diagonal Covariance\")"
   ]
  },
  {
   "cell_type": "code",
   "execution_count": null,
   "id": "457a2f42",
   "metadata": {},
   "outputs": [],
   "source": [
    "#Tied full\n",
    "\n",
    "for i in range(10):\n",
    "    means = calculate_cluster_characteristics(train_df_split, 4, i, 1, 2)[0]\n",
    "    covs = calculate_cluster_characteristics(train_df_split, 4, i, 1, 2)[1]\n",
    "    res = calculate_cluster_characteristics(train_df_split, 4, i, 1, 2)[2]\n",
    "\n",
    "    weighted_sum = np.zeros((2,2))\n",
    "\n",
    "    for j in range(len(res)):\n",
    "        weighted_sum += res[j]*covs[j]\n",
    "\n",
    "    cov_full = [weighted_sum, weighted_sum, weighted_sum, weighted_sum]\n",
    "\n",
    "    x, y = np.mgrid[-10:10:1, -8:8:1]\n",
    "    pos = np.dstack((x, y))\n",
    " \n",
    "    z = []\n",
    "    for p in pos:\n",
    "        z.append(prob(p, means, cov_full, res))\n",
    "    z = np.array(z).reshape(x.shape)\n",
    "\n",
    "    plt.contourf(x, y, z)\n",
    "    plt.title(f\"Digit {i}\")\n",
    "    plt.xlabel(\"MFCC 1\")\n",
    "    plt.ylabel(\"MFCC 2\")\n",
    "    plt.show()"
   ]
  },
  {
   "cell_type": "code",
   "execution_count": null,
   "id": "e0877b1d",
   "metadata": {},
   "outputs": [],
   "source": [
    "for i in range(10):\n",
    "    means = calculate_cluster_characteristics(train_df_split, 4, i, 1, 2)[0]\n",
    "    covs = calculate_cluster_characteristics(train_df_split, 4, i, 1, 2)[1]\n",
    "    res = calculate_cluster_characteristics(train_df_split, 4, i, 1, 2)[2]\n",
    "\n",
    "    x, y = np.mgrid[-10:10:1, -8:8:1]\n",
    "    pos = np.dstack((x, y))\n",
    " \n",
    "    z = []\n",
    "    for p in pos:\n",
    "        z.append(prob(p, means, covs, res))\n",
    "    z = np.array(z).reshape(x.shape)\n",
    "\n",
    "    plt.contourf(x, y, z)\n",
    "    plt.title(f\"Digit {i}\")\n",
    "    plt.xlabel(\"MFCC 1\")\n",
    "    plt.ylabel(\"MFCC 2\")\n",
    "    plt.show()"
   ]
  },
  {
   "cell_type": "code",
   "execution_count": null,
   "id": "20bf56c6",
   "metadata": {},
   "outputs": [],
   "source": [
    "# DIAGONAL COVARIANCE\n",
    "\n",
    "def diag_cov(data, num_clusters, digit_num, mfcc_x, mfcc_y):\n",
    "    digit_data = get_digit_data(data, digit_num)\n",
    "    clusters = list(zip(digit_data.to_numpy()[:,mfcc_x], digit_data.to_numpy()[:,mfcc_y]))\n",
    "    \n",
    "    kmeans = get_kmeans_model(data, num_clusters, digit_num)\n",
    "    pred = kmeans.predict(digit_data)\n",
    "\n",
    "    pts_0 = []\n",
    "    pts_1 = []\n",
    "    pts_2 = []\n",
    "    pts_3 = []\n",
    "    for i in range(len(pred)):\n",
    "        if pred[i] == 0:\n",
    "            pts_0.append(clusters[i])\n",
    "        if pred[i] == 1:\n",
    "            pts_1.append(clusters[i])\n",
    "        if pred[i] == 2:\n",
    "            pts_2.append(clusters[i])\n",
    "        if pred[i] == 3:\n",
    "            pts_3.append(clusters[i])\n",
    "        \n",
    "    #calculate means, covariances, and responsibilities of each\n",
    "    pts_0 = np.array(pts_0)\n",
    "    mean_0 = np.mean(pts_0, axis = 0)\n",
    "    covar_0 = np.cov(pts_0.T)\n",
    "    res_0 = len(pts_0)/len(pred) #prior\n",
    "\n",
    "    pts_1 = np.array(pts_1)\n",
    "    mean_1 = np.mean(pts_1, axis = 0)\n",
    "    covar_1 = np.cov(pts_1.T)\n",
    "    res_1 = len(pts_1)/len(pred)\n",
    "\n",
    "    pts_2 = np.array(pts_2)\n",
    "    mean_2 = np.mean(pts_2, axis = 0)\n",
    "    covar_2 = np.cov(pts_2.T)\n",
    "    res_2 = len(pts_2)/len(pred)\n",
    "\n",
    "    pts_3 = np.array(pts_3)\n",
    "    mean_3 = np.mean(pts_3, axis = 0)\n",
    "    covar_3 = np.cov(pts_3.T)\n",
    "    res_3 = len(pts_3)/len(pred)\n",
    "\n",
    "    means = [mean_0, mean_1, mean_2, mean_3]\n",
    "    covs = [covar_0, covar_1, covar_2, covar_3]\n",
    "    res = [res_0, res_1, res_2, res_3]\n",
    "    \n",
    "    covs_diag_0 = covar_0.copy()\n",
    "    covs_diag_0[0,1] = 0\n",
    "    covs_diag_0[1,0] = 0\n",
    "\n",
    "    covs_diag_1 = covar_1.copy()\n",
    "    covs_diag_1[0,1] = 0\n",
    "    covs_diag_1[1,0] = 0\n",
    "\n",
    "    covs_diag_2 = covar_2.copy()\n",
    "    covs_diag_2[0,1] = 0\n",
    "    covs_diag_2[1,0] = 0\n",
    "\n",
    "    covs_diag_3 = covar_3.copy()\n",
    "    covs_diag_3[0,1] = 0\n",
    "    covs_diag_3[1,0] = 0\n",
    "\n",
    "    covs_diags = [covs_diag_0, covs_diag_1, covs_diag_2, covs_diag_3]\n",
    "    \n",
    "    x, y = np.mgrid[-10:10:1, -10:10:1]\n",
    "    pos = np.dstack((x, y))\n",
    "\n",
    "    z = []\n",
    "    for p in pos:\n",
    "        z.append(prob(p, means, covs_diags, res))\n",
    "    z = np.array(z).reshape(x.shape)\n",
    "\n",
    "    plt.contourf(x, y, z)\n",
    "    plt.title(f\"Digit {digit_num}\")\n",
    "    plt.xlabel(\"MFCC 1\")\n",
    "    plt.ylabel(\"MFCC 2\")\n",
    "    plt.show()"
   ]
  },
  {
   "cell_type": "code",
   "execution_count": null,
   "id": "b6271779",
   "metadata": {},
   "outputs": [],
   "source": [
    "for i in range(10):\n",
    "    diag_cov(train_df_split, 4, i, 0, 1)"
   ]
  },
  {
   "cell_type": "markdown",
   "id": "44fee37f",
   "metadata": {},
   "source": [
    "ML Classification (k-means):\n",
    "="
   ]
  },
  {
   "cell_type": "code",
   "execution_count": null,
   "id": "30c51a29",
   "metadata": {},
   "outputs": [],
   "source": [
    "# add labels to train\n",
    "train_df_label = train_df_split\n",
    "train_df_label['label'] = [0]*len(train_df_split)\n",
    "\n",
    "size = 660\n",
    "for i in range(len(train_df_label)):\n",
    "    value = train_df_label.at[i, 'group_no']\n",
    "    for digit_num in range(10):\n",
    "        if ((value >= size*digit_num) & (value < (size*(digit_num+1)))) :\n",
    "            train_df_label.at[i, 'label'] = digit_num"
   ]
  },
  {
   "cell_type": "code",
   "execution_count": null,
   "id": "7a5a24a1",
   "metadata": {},
   "outputs": [],
   "source": [
    "# add labels to test\n",
    "test_df_label = test_df_split\n",
    "test_df_label['label'] = [0]*len(test_df_split)\n",
    "\n",
    "size = 220\n",
    "for i in range(len(test_df_label)):\n",
    "    value = test_df_label.at[i, 'group_no']\n",
    "    for digit_num in range(10):\n",
    "        if ((value >= size*digit_num) & (value < (size*(digit_num+1)))) :\n",
    "            test_df_label.at[i, 'label'] = digit_num"
   ]
  },
  {
   "cell_type": "code",
   "execution_count": null,
   "id": "06e8e479",
   "metadata": {},
   "outputs": [],
   "source": [
    "test_data = test_df_split.iloc[:, 0:13]"
   ]
  },
  {
   "cell_type": "code",
   "execution_count": null,
   "id": "3d7a24a2",
   "metadata": {},
   "outputs": [],
   "source": [
    "# explore changing # clusters\n",
    "\n",
    "kmeans_0 = get_kmeans_model(train_df_split, 4, 0)\n",
    "kmeans_1 = get_kmeans_model(train_df_split, 4, 1)\n",
    "kmeans_2 = get_kmeans_model(train_df_split, 4, 2)\n",
    "kmeans_2_2 = get_kmeans_model(train_df_split, 2, 2) # changed 2 to 2 clusters\n",
    "kmeans_3 = get_kmeans_model(train_df_split, 4, 3)\n",
    "kmeans_4 = get_kmeans_model(train_df_split, 4, 4)\n",
    "kmeans_5 = get_kmeans_model(train_df_split, 4, 5)\n",
    "kmeans_6 = get_kmeans_model(train_df_split, 4, 6)\n",
    "kmeans_7 = get_kmeans_model(train_df_split, 4, 7)\n",
    "kmeans_7_2 = get_kmeans_model(train_df_split, 2, 7) # changed 7 to 2 clusters\n",
    "kmeans_8 = get_kmeans_model(train_df_split, 4, 8)\n",
    "kmeans_8_3 = get_kmeans_model(train_df_split, 3, 8) # changed 8 to 3 clusters\n",
    "kmeans_9 = get_kmeans_model(train_df_split, 4, 9)"
   ]
  },
  {
   "cell_type": "code",
   "execution_count": null,
   "id": "177d155c",
   "metadata": {},
   "outputs": [],
   "source": [
    "kmeans_models = [kmeans_0, kmeans_1, kmeans_2, kmeans_3, kmeans_4, kmeans_5, kmeans_6, kmeans_7, kmeans_8, kmeans_9]\n",
    "\n",
    "test_data = test_df_split.iloc[:, 0:13]\n",
    "correct_labels = test_df_label['label']\n",
    "label_true = list((test_df_label.groupby('group_no').mean()['label']))"
   ]
  },
  {
   "cell_type": "code",
   "execution_count": null,
   "id": "8e3d343d",
   "metadata": {},
   "outputs": [],
   "source": [
    "def calculate_cov_mean_res(data, kmeans):\n",
    "    num_clusters = kmeans.cluster_centers_.shape[0]\n",
    "    pred = kmeans.labels_\n",
    "    \n",
    "    res = []\n",
    "    means = []\n",
    "    covars = []\n",
    "    for i in range(num_clusters):\n",
    "        pts = data[pred == i]\n",
    "        means.append(np.mean(pts, axis = 0))\n",
    "        covars.append(np.cov(pts.T))\n",
    "        res.append(len(pts)/len(pred))\n",
    "    \n",
    "    return means, covars, res"
   ]
  },
  {
   "cell_type": "code",
   "execution_count": null,
   "id": "c5d35f4f",
   "metadata": {},
   "outputs": [],
   "source": [
    "def prob_test(x, means, covs, res, num_clusters):\n",
    "    ans = 0\n",
    "    for i in range(num_clusters):\n",
    "        ans += res[i] * multivariate_normal.pdf(x, means[i], covs[i])\n",
    "    \n",
    "    return np.prod(ans)"
   ]
  },
  {
   "cell_type": "code",
   "execution_count": null,
   "id": "0e9299aa",
   "metadata": {},
   "outputs": [],
   "source": [
    "def predict_label(block_data, kmeans_models):\n",
    "\n",
    "    score_list = []\n",
    "    for i in range(10):\n",
    "        kmeans = kmeans_models[i]\n",
    "        train_data = get_digit_data(train_df_split, i)\n",
    "        means, covs, res = calculate_cov_mean_res(train_data, kmeans) #GMM already has these -- change for EM\n",
    "        score = prob_test(block_data, means, covs, res, kmeans.cluster_centers_.shape[0])\n",
    "        score_list.append(score)\n",
    "\n",
    "    label_predict = score_list.index(max(score_list))\n",
    "    return label_predict"
   ]
  },
  {
   "cell_type": "code",
   "execution_count": null,
   "id": "064fb43c",
   "metadata": {},
   "outputs": [],
   "source": [
    "predictions = []\n",
    "for i in tqdm(range(2200)):\n",
    "    block = get_1block_data(test_df_split, block_number = i)\n",
    "    predictions.append(predict_label(block, kmeans_models))\n",
    "    "
   ]
  },
  {
   "cell_type": "code",
   "execution_count": null,
   "id": "8b303377",
   "metadata": {},
   "outputs": [],
   "source": [
    "kmeans_models_2 = [kmeans_0, kmeans_1, kmeans_2_2, kmeans_3, kmeans_4, kmeans_5, kmeans_6, kmeans_7_2, kmeans_8_3, kmeans_9]\n"
   ]
  },
  {
   "cell_type": "code",
   "execution_count": null,
   "id": "5362c444",
   "metadata": {},
   "outputs": [],
   "source": [
    "predictions_custom_clus = [] # changing # of clusters for 2, 7, and 8\n",
    "for i in tqdm(range(2200)):\n",
    "    block = get_1block_data(test_df_split, block_number = i)\n",
    "    predictions_custom_clus.append(predict_label(block, kmeans_models_2))"
   ]
  },
  {
   "cell_type": "code",
   "execution_count": null,
   "id": "653e0acd",
   "metadata": {},
   "outputs": [],
   "source": [
    "plot_confusion_get_metrics(label_true, predictions_custom_clus, \"K-Means, tuned clusters\")"
   ]
  },
  {
   "cell_type": "code",
   "execution_count": null,
   "id": "9d7291a7",
   "metadata": {},
   "outputs": [],
   "source": [
    "kmeans_new = []\n",
    "for i in range(10):\n",
    "    if i == 2:\n",
    "        num_clusters = 3\n",
    "    elif (i == 4) or (i == 8) or (i == 9) or (i == 7):\n",
    "        num_clusters = 5\n",
    "    else:\n",
    "        num_clusters = 4\n",
    "    kmeans_current = get_kmeans_model(train_df_split, num_clusters, i)\n",
    "    kmeans_new.append(kmeans_current)"
   ]
  },
  {
   "cell_type": "code",
   "execution_count": null,
   "id": "d5df0385",
   "metadata": {},
   "outputs": [],
   "source": [
    "predictions_new = []\n",
    "for i in tqdm(range(2200)):\n",
    "    block = get_1block_data(test_df_split, block_number = i)\n",
    "    predictions_new.append(predict_label(block, kmeans_new))\n",
    "    "
   ]
  },
  {
   "cell_type": "markdown",
   "id": "f2726612",
   "metadata": {},
   "source": [
    "## Elbow plot to determine # of clusters"
   ]
  },
  {
   "cell_type": "code",
   "execution_count": null,
   "id": "392253ca",
   "metadata": {},
   "outputs": [],
   "source": [
    "def plot_elbows(data, digit_num):\n",
    "    distortions = []\n",
    "    inertias = []\n",
    "    mapping1 = {}\n",
    "    mapping2 = {}\n",
    "    K = range(1, 10)\n",
    "\n",
    "    # data = get_digit_data(train_df_split, digit_num)\n",
    "  \n",
    "    for k in K:\n",
    "        # Building and fitting the model\n",
    "        kmeanModel = KMeans(n_clusters=k)\n",
    "        kmeanModel.fit(data)\n",
    "  \n",
    "        distortions.append(sum(np.min(cdist(data, kmeanModel.cluster_centers_,\n",
    "                                        'euclidean'), axis=1)) / data.shape[0])\n",
    "        inertias.append(kmeanModel.inertia_)\n",
    "  \n",
    "        mapping1[k] = sum(np.min(cdist(data, kmeanModel.cluster_centers_,\n",
    "                                   'euclidean'), axis=1)) / data.shape[0]\n",
    "        mapping2[k] = kmeanModel.inertia_\n",
    "        \n",
    "    #plt.figure(figsize=(10, 4))\n",
    "    plt.plot(K, distortions, 'bx-')\n",
    "    plt.plot()\n",
    "    plt.xlabel('Number of Clusters')\n",
    "    plt.ylabel('Distortion')\n",
    "    plt.title(f'Digit {digit_num}')\n",
    "    plt.show()"
   ]
  },
  {
   "cell_type": "code",
   "execution_count": null,
   "id": "a1c8b218",
   "metadata": {},
   "outputs": [],
   "source": [
    "#Title: Elbow Method for Optimal Number of Clusters\n",
    "for i in range(6,10):\n",
    "    data = get_digit_data(train_df_split, i)\n",
    "    plot_elbows(data, i)"
   ]
  },
  {
   "cell_type": "code",
   "execution_count": null,
   "id": "94a1502d",
   "metadata": {},
   "outputs": [],
   "source": [
    "plot_elbows(get_digit_data(train_df_split, 5), 5)"
   ]
  },
  {
   "cell_type": "markdown",
   "id": "ac0592ea",
   "metadata": {},
   "source": [
    "## Explore KMeans classification for Gender split data"
   ]
  },
  {
   "cell_type": "code",
   "execution_count": null,
   "id": "c152dc73",
   "metadata": {},
   "outputs": [],
   "source": [
    "kmeans_male_models = []\n",
    "\n",
    "for i in range(10):\n",
    "    digit_data = males_train_all[males_train_all['label'] == i].iloc[:, 0:13] \n",
    "    kmeans_male = KMeans(n_clusters = 4).fit(digit_data)\n",
    "    kmeans_male_models.append(kmeans_male)"
   ]
  },
  {
   "cell_type": "code",
   "execution_count": null,
   "id": "befc6fd4",
   "metadata": {},
   "outputs": [],
   "source": [
    "kmeans_female_models = []\n",
    "\n",
    "for i in range(10):\n",
    "    kmeans_female = get_kmeans_model(females_train_all, 4, i)\n",
    "    kmeans_female_models.append(kmeans_female)"
   ]
  },
  {
   "cell_type": "code",
   "execution_count": null,
   "id": "2449d2b4",
   "metadata": {},
   "outputs": [],
   "source": [
    "test_data_male = males_test.iloc[:, 0:13]\n",
    "label_true_male = list((males_test.groupby('group_no').mean()['label']))\n",
    "\n",
    "test_data_female = females_test.iloc[:, 0:13]\n",
    "label_true_female = list((females_test.groupby('group_no').mean()['label']))"
   ]
  },
  {
   "cell_type": "code",
   "execution_count": null,
   "id": "34f8b93a",
   "metadata": {},
   "outputs": [],
   "source": [
    "def predict_label_male(block_data, all_train_data, kmeans_models):\n",
    "\n",
    "    score_list = []\n",
    "    for i in range(10):\n",
    "        kmeans = kmeans_male_models[i]\n",
    "        train_data = all_train_data[all_train_data['label'] == i].iloc[:, 0:13] \n",
    "        means, covs, res = calculate_cov_mean_res(train_data, kmeans) \n",
    "        score = prob_test(block_data, means, covs, res, kmeans.cluster_centers_.shape[0])\n",
    "        score_list.append(score)\n",
    "\n",
    "    label_predict = score_list.index(max(score_list))\n",
    "    return label_predict"
   ]
  },
  {
   "cell_type": "code",
   "execution_count": null,
   "id": "ee152213",
   "metadata": {},
   "outputs": [],
   "source": [
    "predictions_male = []\n",
    "for i in tqdm(range(1100)):\n",
    "    block = get_1block_data(males_test, block_number = i)\n",
    "    predictions_male.append(predict_label_male(block, males_train_all, kmeans_male_models))\n",
    "    "
   ]
  },
  {
   "cell_type": "code",
   "execution_count": null,
   "id": "001f5250",
   "metadata": {},
   "outputs": [],
   "source": [
    "accuracy_male = (np.sum(np.array(label_true_male) == np.array(predictions_male)) / len(label_true_male))*100\n",
    "print(f\"The accuracy of the k-means model on the male test set is {accuracy_male}.\")"
   ]
  },
  {
   "cell_type": "code",
   "execution_count": null,
   "id": "57362aac",
   "metadata": {},
   "outputs": [],
   "source": [
    "## CAN USE SAME FNCTN, GEN\n",
    "\n",
    "def predict_label_female(block_data, kmeans_models):\n",
    "\n",
    "    score_list = []\n",
    "    for i in range(10):\n",
    "        kmeans = kmeans_female_models[i]\n",
    "        train_data = get_digit_data(females_train_all, i)\n",
    "        means, covs, res = calculate_cov_mean_res(train_data, kmeans) #GMM already has these -- change for EM\n",
    "        score = prob_test(block_data, means, covs, res, kmeans.cluster_centers_.shape[0])\n",
    "        score_list.append(score)\n",
    "\n",
    "    label_predict = score_list.index(max(score_list))\n",
    "    return label_predict"
   ]
  },
  {
   "cell_type": "code",
   "execution_count": null,
   "id": "296b882d",
   "metadata": {},
   "outputs": [],
   "source": [
    "predictions_female = []\n",
    "for i in tqdm(range(1100)):\n",
    "    block = get_1block_data(females_test, block_number = i)\n",
    "    predictions_female.append(predict_label_female(block, kmeans_female_models))\n",
    "    "
   ]
  },
  {
   "cell_type": "markdown",
   "id": "e8ca2947",
   "metadata": {},
   "source": [
    "## Explore EM classification for gender split data"
   ]
  },
  {
   "cell_type": "code",
   "execution_count": null,
   "id": "d1df3041",
   "metadata": {},
   "outputs": [],
   "source": [
    "# find if #clusters changes\n",
    "\n",
    "for i in range(10):\n",
    "    data = females_train_all[females_train_all[\"label\"] == i]\n",
    "    plot_elbows(data, i)"
   ]
  },
  {
   "cell_type": "code",
   "execution_count": null,
   "id": "0e3847ea",
   "metadata": {},
   "outputs": [],
   "source": [
    "male_em_models = []\n",
    "\n",
    "for i in range(10):\n",
    "    digit_data = males_train_all[males_train_all[\"label\"] == i].iloc[:, 0:13]\n",
    "    em_current_male = GaussianMixture(n_components = 4, max_iter = 10000000).fit(digit_data)\n",
    "    male_em_models.append(em_current_male)"
   ]
  },
  {
   "cell_type": "code",
   "execution_count": null,
   "id": "50accc84",
   "metadata": {},
   "outputs": [],
   "source": [
    "def predict_label_em_gen(block_data, em_models):\n",
    "\n",
    "    score_list = []\n",
    "    for i in range(10):\n",
    "        em = em_models[i]\n",
    "        means = em.means_ \n",
    "        covs = em.covariances_\n",
    "        res =  em.weights_ \n",
    "        num_clusters = res.shape[0]\n",
    "        score = prob_test(block_data, means, covs, res, num_clusters) \n",
    "        score_list.append(score)\n",
    "\n",
    "    label_predict = score_list.index(max(score_list))\n",
    "    return label_predict"
   ]
  },
  {
   "cell_type": "code",
   "execution_count": null,
   "id": "232b76c7",
   "metadata": {},
   "outputs": [],
   "source": [
    "males_blocks = males_test['group_no']\n",
    "males_blocks_unique = np.unique(males_blocks)\n",
    "\n",
    "type(males_blocks)"
   ]
  },
  {
   "cell_type": "code",
   "execution_count": null,
   "id": "d191acda",
   "metadata": {},
   "outputs": [],
   "source": [
    "predictions_male_new = []\n",
    "\n",
    "#use group_no from males and females_test to index\n",
    "for i in tqdm(males_blocks_unique): #it's every other \n",
    "    block = get_1block_data(males_test, block_number = i)\n",
    "    predictions_male_new.append(predict_label_em_gen(block, male_em_models))"
   ]
  },
  {
   "cell_type": "code",
   "execution_count": null,
   "id": "02570cb8",
   "metadata": {},
   "outputs": [],
   "source": [
    "male_label_true = list((males_test.groupby('group_no').mean()['label'])) "
   ]
  },
  {
   "cell_type": "code",
   "execution_count": null,
   "id": "308f4726",
   "metadata": {},
   "outputs": [],
   "source": [
    "plot_confusion_get_metrics(male_label_true, predictions_male_new, \"EM, Males\", \"split\")"
   ]
  },
  {
   "cell_type": "code",
   "execution_count": null,
   "id": "4cec23fa",
   "metadata": {},
   "outputs": [],
   "source": [
    "female_em_models = []\n",
    "for i in range(10):\n",
    "    digit_data = females_train_all[females_train_all[\"label\"] == i].iloc[:, 0:13]\n",
    "    em_current_female = GaussianMixture(n_components = 4, max_iter = 10000000).fit(digit_data)\n",
    "    female_em_models.append(em_current_female)\n",
    "\n",
    "females_blocks = females_test['group_no']\n",
    "females_blocks_unique = np.unique(females_blocks)\n",
    "\n",
    "female_label_true = list((females_test.groupby('group_no').mean()['label'])) "
   ]
  },
  {
   "cell_type": "code",
   "execution_count": null,
   "id": "f595a618",
   "metadata": {},
   "outputs": [],
   "source": [
    "predictions_female_new = []\n",
    "\n",
    "#use group_no from males and females_test to index\n",
    "for i in tqdm(females_blocks_unique): #it's every other \n",
    "    block = get_1block_data(females_test, block_number = i)\n",
    "    predictions_female_new.append(predict_label_em_gen(block, female_em_models))"
   ]
  },
  {
   "cell_type": "markdown",
   "id": "2f08b0f1",
   "metadata": {},
   "source": [
    "## PCA exploration"
   ]
  },
  {
   "cell_type": "code",
   "execution_count": null,
   "id": "36fc8c24",
   "metadata": {},
   "outputs": [],
   "source": [
    "pca = PCA(n_components=4)\n",
    "X = get_digit_data(train_df_split, 0)\n",
    "pca.fit(X)"
   ]
  },
  {
   "cell_type": "code",
   "execution_count": null,
   "id": "0234f2ac",
   "metadata": {},
   "outputs": [],
   "source": [
    "import plotly.express as px\n",
    "from sklearn.decomposition import PCA\n",
    "\n",
    "pca = PCA()\n",
    "components = pca.fit_transform(train_df_split.iloc[:, :13])\n",
    "labels = {\n",
    "    str(i): f\"PC {i+1} ({var:.1f}%)\"\n",
    "    for i, var in enumerate(pca.explained_variance_ratio_ * 100)\n",
    "}\n",
    "\n",
    "fig = px.scatter_matrix(\n",
    "    components,\n",
    "    labels=labels,\n",
    "    dimensions=range(2),\n",
    "    color=train_df_split[\"label\"]\n",
    ")\n",
    "fig.update_traces(diagonal_visible=False)\n",
    "fig.show()"
   ]
  },
  {
   "cell_type": "code",
   "execution_count": null,
   "id": "bfb09f94",
   "metadata": {},
   "outputs": [],
   "source": [
    "pca = PCA(n_components=13)\n",
    "pca.fit(train_df_split.iloc[:, :13])\n",
    "pca"
   ]
  },
  {
   "cell_type": "code",
   "execution_count": null,
   "id": "f624454a",
   "metadata": {},
   "outputs": [],
   "source": [
    "pca = PCA(2)  # project from 64 to 2 dimensions\n",
    "projected = pca.fit_transform(train_df_split.iloc[:, :13])\n",
    "print(train_df_split.iloc[:, :13].shape)\n",
    "print(projected.shape)"
   ]
  },
  {
   "cell_type": "code",
   "execution_count": null,
   "id": "86187549",
   "metadata": {},
   "outputs": [],
   "source": [
    "plt.figure(figsize=(40, 20))\n",
    "plt.scatter(projected[:, 0], projected[:, 1],\n",
    "            c=train_df_split.label, edgecolor='none', alpha=0.5, cmap = 'tab10')\n",
    "plt.xlabel('PC 1')\n",
    "plt.ylabel('PC 2')\n",
    "plt.title(\"PCA on entire dataset\")\n",
    "plt.colorbar();"
   ]
  },
  {
   "cell_type": "markdown",
   "id": "8df573fa",
   "metadata": {},
   "source": [
    "ML Classification (EM):\n",
    "="
   ]
  },
  {
   "cell_type": "code",
   "execution_count": null,
   "id": "29da5644",
   "metadata": {},
   "outputs": [],
   "source": [
    "em_models_old = []\n",
    "for i in range(10):\n",
    "    current = get_em_model(train_df_split, 4, i, 1, 2)\n",
    "    em_models_old.append(current)"
   ]
  },
  {
   "cell_type": "code",
   "execution_count": null,
   "id": "4fe7ce38",
   "metadata": {},
   "outputs": [],
   "source": [
    "predictions_em_old = []\n",
    "for i in tqdm(range(2200)):\n",
    "    block = get_1block_data(test_df_split, block_number = i).iloc[:, 0:2] #just use 1st 2 coeff -- CHANGE all 13\n",
    "    predictions_em_old.append(predict_label_em(block, em_models_new))"
   ]
  },
  {
   "cell_type": "code",
   "execution_count": null,
   "id": "dff28fce",
   "metadata": {},
   "outputs": [],
   "source": [
    "em_models_new = []\n",
    "for i in range(10):\n",
    "    if (i == 1) or (i == 2) or (i == 4): \n",
    "        num_clusters = 3\n",
    "    elif (i == 8) or (i == 9):\n",
    "        num_clusters = 5\n",
    "    else:\n",
    "        num_clusters = 4\n",
    "    em_current = get_em_model_new(train_df_split, num_clusters, i)\n",
    "    em_models_new.append(em_current)"
   ]
  },
  {
   "cell_type": "code",
   "execution_count": null,
   "id": "f55489db",
   "metadata": {},
   "outputs": [],
   "source": [
    "def predict_label_em(block_data, em_models):\n",
    "\n",
    "    score_list = []\n",
    "    for i in range(10):\n",
    "        em = em_models[i]\n",
    "        means = em.means_ \n",
    "        covs = em.covariances_\n",
    "        res =  em.weights_ \n",
    "        num_clusters = res.shape[0]\n",
    "        score = prob_test(block_data, means, covs, res, num_clusters) \n",
    "        score_list.append(score)\n",
    "\n",
    "    label_predict = score_list.index(max(score_list))\n",
    "    return label_predict"
   ]
  },
  {
   "cell_type": "code",
   "execution_count": null,
   "id": "323921d6",
   "metadata": {},
   "outputs": [],
   "source": [
    "predictions_em = []\n",
    "for i in tqdm(range(2200)):\n",
    "    block = get_1block_data(test_df_split, block_number = i).iloc[:, 0:13] \n",
    "    predictions_em.append(predict_label_em(block, em_models_new))"
   ]
  },
  {
   "cell_type": "code",
   "execution_count": null,
   "id": "0d5ea295",
   "metadata": {},
   "outputs": [],
   "source": [
    "predictions_em_all = []\n",
    "for i in tqdm(range(2200)):\n",
    "    block = get_1block_data(test_df_split, block_number = i).iloc[:, 0:13] \n",
    "    predictions_em_all.append(predict_label_em_gen(block, em_models))"
   ]
  },
  {
   "cell_type": "markdown",
   "id": "7a54ca5a",
   "metadata": {},
   "source": [
    "Test Performance Metrics:\n",
    "="
   ]
  },
  {
   "cell_type": "code",
   "execution_count": null,
   "id": "81e67a55",
   "metadata": {},
   "outputs": [],
   "source": [
    "tp = np.diag(conf_mat)\n",
    "prec = np.average(list(map(truediv, tp, np.sum(conf_mat, axis=0))))\n",
    "rec = np.average(list(map(truediv, tp, np.sum(conf_mat, axis=1))))\n",
    "f1 = 2*((prec*rec)/(prec+rec))\n",
    "print ('Precision: {}\\nRecall: {}\\nF1: {}'.format(prec, rec, f1))"
   ]
  },
  {
   "cell_type": "code",
   "execution_count": null,
   "id": "92387067",
   "metadata": {},
   "outputs": [],
   "source": [
    "def addlabels(x,y):\n",
    "    for i in range(len(x)):\n",
    "        plt.text(i,y[i],y[i])"
   ]
  },
  {
   "cell_type": "code",
   "execution_count": null,
   "id": "e7e204b3",
   "metadata": {},
   "outputs": [],
   "source": [
    "def plot_confusion_get_metrics(true_label, preds, title, data_type = \"full\"):\n",
    "    conf_mat = confusion_matrix(true_label, preds)\n",
    "    plt.figure(figsize=(11, 8))\n",
    "    sns.heatmap(conf_mat, cmap='RdBu', annot=True, fmt='g')\n",
    "    plt.title(f\"Predicted vs. True labels ({title})\")\n",
    "    plt.xlabel(\"True Digits\")\n",
    "    plt.ylabel(\"Predicted Digits\")\n",
    "    plt.show()\n",
    "    \n",
    "    accuracy = (np.sum(np.array(true_label) == np.array(preds)) / len(true_label))*100\n",
    "    \n",
    "    tp = np.diag(conf_mat)\n",
    "    prec = np.average(list(map(truediv, tp, np.sum(conf_mat, axis=0))))\n",
    "    rec = np.average(list(map(truediv, tp, np.sum(conf_mat, axis=1))))\n",
    "    f1 = 2*((prec*rec)/(prec+rec))\n",
    "    print ('Accuracy: {}\\nPrecision: {}\\nRecall: {}\\nF1: {}'.format(accuracy, prec, rec, f1))\n",
    "    \n",
    "    if data_type == \"split\":\n",
    "        tot = 110\n",
    "    else:\n",
    "        tot = 220\n",
    "    \n",
    "    digit_accuracies = []\n",
    "    for i in range(10):\n",
    "        print(conf_mat[i][i])\n",
    "        digit_accuracies.append((conf_mat[i][i] / tot) * 100 )\n",
    "    \n",
    "    print(digit_accuracies)\n",
    "    \n",
    "    plt.bar(range(10), digit_accuracies)\n",
    "    \n",
    "    for i in range(10):\n",
    "        plt.text(i, round(digit_accuracies[i], 1), round(digit_accuracies[i],1), ha = 'center')\n",
    "    \n",
    "    plt.title(\"Accuracy per Digit\")\n",
    "    plt.xticks(np.arange(0, 10, 1))\n",
    "    plt.xlabel(\"Digit\")\n",
    "    plt.ylabel(\"Accuracy (%)\")\n",
    "    plt.show()"
   ]
  },
  {
   "cell_type": "code",
   "execution_count": null,
   "id": "2ecc49e8",
   "metadata": {},
   "outputs": [],
   "source": [
    "plot_confusion_get_metrics(label_true, predictions_em, \"EM, tuned clusters\")"
   ]
  },
  {
   "cell_type": "code",
   "execution_count": null,
   "id": "0aef2d10",
   "metadata": {},
   "outputs": [],
   "source": [
    "plot_confusion_get_metrics(female_label_true, predictions_female_new, \"EM, female\", \"split\")"
   ]
  },
  {
   "cell_type": "code",
   "execution_count": null,
   "id": "ff830d32",
   "metadata": {},
   "outputs": [],
   "source": [
    "plot_confusion_get_metrics(male_label_true, predictions_male_new, \"EM, male\")"
   ]
  },
  {
   "cell_type": "markdown",
   "id": "514ca309",
   "metadata": {},
   "source": [
    "## SLIDEOC\n"
   ]
  },
  {
   "cell_type": "markdown",
   "id": "0fbeafe3",
   "metadata": {},
   "source": [
    "$$ \\huge J = \\Sigma_{i=1}^{k} \\Sigma_{j=1}^{n} \\| x_i - c_j \\|^2 $$    "
   ]
  },
  {
   "cell_type": "markdown",
   "id": "35dbf88c",
   "metadata": {},
   "source": [
    "$$\\huge \\hat{\\theta} = argmaxlog(\\Sigma_{z} p(x, z | \\theta) )$$    "
   ]
  },
  {
   "cell_type": "markdown",
   "id": "bb26cf67",
   "metadata": {},
   "source": [
    "$$ \\huge max(log (\\Sigma_{k=1}^{K} r_k p (x_i | \\mu_k, \\Sigma_k )) $$"
   ]
  },
  {
   "cell_type": "markdown",
   "id": "fbc8afbb",
   "metadata": {},
   "source": [
    "$$\\huge L(X|f) = \\Pi_{i=1}^{F} (\\Sigma_{k=1}^{K} r_k p (x_i | \\mu_k, \\Sigma_k ))$$"
   ]
  },
  {
   "cell_type": "markdown",
   "id": "eb4cc155",
   "metadata": {},
   "source": [
    "$$\\huge L(X|f) = \\frac{1}{F} \\Sigma_{i=1}^{F} log (\\Sigma_{k=1}^{K} r_k p (x_i | \\mu_k, \\Sigma_k ))$$"
   ]
  },
  {
   "cell_type": "markdown",
   "id": "4ba65e7c",
   "metadata": {},
   "source": [
    "$$ \\huge P(x|\\lambda) = \\Sigma_{k=1}^{M} \\pi_k \\mathcal{N}(x|\\mu_k, \\Sigma_{k}) $$"
   ]
  },
  {
   "cell_type": "markdown",
   "id": "0182a794",
   "metadata": {},
   "source": [
    "$$\\frac{TP}{TP + FN} $$"
   ]
  },
  {
   "cell_type": "markdown",
   "id": "1164ec71",
   "metadata": {},
   "source": [
    "$$\\frac{2 * precision * recall}{precision + recall} $$"
   ]
  },
  {
   "cell_type": "markdown",
   "id": "7cbfc2da",
   "metadata": {},
   "source": [
    "$$ \\begin{bmatrix}\n",
    "\\sigma_i^2 & 0\\\\\n",
    "0 & \\sigma_j^2\n",
    "\\end{bmatrix} $$"
   ]
  }
 ],
 "metadata": {
  "kernelspec": {
   "display_name": "Python 3 (ipykernel)",
   "language": "python",
   "name": "python3"
  },
  "language_info": {
   "codemirror_mode": {
    "name": "ipython",
    "version": 3
   },
   "file_extension": ".py",
   "mimetype": "text/x-python",
   "name": "python",
   "nbconvert_exporter": "python",
   "pygments_lexer": "ipython3",
   "version": "3.10.9"
  }
 },
 "nbformat": 4,
 "nbformat_minor": 5
}
